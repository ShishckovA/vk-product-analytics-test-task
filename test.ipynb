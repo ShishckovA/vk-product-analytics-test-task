{
 "cells": [
  {
   "cell_type": "code",
   "execution_count": 62,
   "metadata": {},
   "outputs": [],
   "source": [
    "import pandas as pd\n",
    "import numpy as np\n",
    "\n",
    "from sklearn.ensemble import RandomForestRegressor, GradientBoostingRegressor\n",
    "from matplotlib import pyplot as plt"
   ]
  },
  {
   "cell_type": "code",
   "execution_count": 148,
   "metadata": {},
   "outputs": [
    {
     "name": "stdout",
     "output_type": "stream",
     "text": [
      "(1000,)\n"
     ]
    }
   ],
   "source": [
    "np.random.seed(42)\n",
    "n_samples = 1000\n",
    "n_features = 10\n",
    "\n",
    "shape = (n_samples, n_features)\n",
    "\n",
    "X = np.random.random(shape)\n",
    "print(np.sum(X, axis=1).shape)\n",
    "vals = [0.01, 0.1]\n",
    "y = [np.random.choice(vals) for i in range(n_samples)]\n"
   ]
  },
  {
   "cell_type": "code",
   "execution_count": 149,
   "metadata": {},
   "outputs": [
    {
     "data": {
      "text/plain": [
       "RandomForestRegressor(random_state=42)"
      ]
     },
     "execution_count": 149,
     "metadata": {},
     "output_type": "execute_result"
    }
   ],
   "source": [
    "rf = RandomForestRegressor(random_state=42)\n",
    "rf.fit(X, y)"
   ]
  },
  {
   "cell_type": "code",
   "execution_count": 150,
   "metadata": {},
   "outputs": [
    {
     "data": {
      "text/plain": [
       "GradientBoostingRegressor(random_state=42)"
      ]
     },
     "execution_count": 150,
     "metadata": {},
     "output_type": "execute_result"
    }
   ],
   "source": [
    "gb = GradientBoostingRegressor(random_state=42)\n",
    "gb.fit(X, y)"
   ]
  },
  {
   "cell_type": "code",
   "execution_count": 151,
   "metadata": {},
   "outputs": [
    {
     "data": {
      "text/plain": [
       "array([[0.03725388, 0.02634733, 0.73912467, ..., 0.5128826 , 0.71303146,\n",
       "        0.27350287],\n",
       "       [0.12158735, 0.55605734, 0.32697762, ..., 0.5442    , 0.73979637,\n",
       "        0.70593662],\n",
       "       [0.53418989, 0.67890302, 0.8735596 , ..., 0.07100678, 0.89211202,\n",
       "        0.0307831 ],\n",
       "       ...,\n",
       "       [0.38423054, 0.11586799, 0.200216  , ..., 0.60634531, 0.20058403,\n",
       "        0.34389384],\n",
       "       [0.8452421 , 0.08785618, 0.85793065, ..., 0.75160487, 0.78499617,\n",
       "        0.22964468],\n",
       "       [0.97287132, 0.0844901 , 0.06850296, ..., 0.02529141, 0.60289634,\n",
       "        0.28969602]])"
      ]
     },
     "execution_count": 151,
     "metadata": {},
     "output_type": "execute_result"
    }
   ],
   "source": [
    "X_te = np.random.random(shape)\n",
    "X_te"
   ]
  },
  {
   "cell_type": "code",
   "execution_count": 152,
   "metadata": {},
   "outputs": [],
   "source": [
    "y_pgb = gb.predict(X_te)\n",
    "y_prf = rf.predict(X_te)"
   ]
  },
  {
   "cell_type": "code",
   "execution_count": 153,
   "metadata": {},
   "outputs": [
    {
     "name": "stdout",
     "output_type": "stream",
     "text": [
      "0.01\n",
      "0.01184783768991381 0.02979999999999995\n"
     ]
    }
   ],
   "source": [
    "print(np.min(y))\n",
    "print(np.min(y_pgb), np.min(y_prf))"
   ]
  },
  {
   "cell_type": "code",
   "execution_count": null,
   "metadata": {},
   "outputs": [],
   "source": []
  }
 ],
 "metadata": {
  "kernelspec": {
   "display_name": "Python 3",
   "language": "python",
   "name": "python3"
  },
  "language_info": {
   "codemirror_mode": {
    "name": "ipython",
    "version": 3
   },
   "file_extension": ".py",
   "mimetype": "text/x-python",
   "name": "python",
   "nbconvert_exporter": "python",
   "pygments_lexer": "ipython3",
   "version": "3.8.6"
  }
 },
 "nbformat": 4,
 "nbformat_minor": 4
}
